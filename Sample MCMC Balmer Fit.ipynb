{
 "cells": [
  {
   "cell_type": "code",
   "execution_count": 25,
   "id": "0b3eea1f",
   "metadata": {},
   "outputs": [],
   "source": [
    "# Computations and plots\n",
    "import os\n",
    "import numpy as np\n",
    "import pandas as pd\n",
    "import matplotlib.pyplot as plt\n",
    "from scipy.signal import savgol_filter # Method 2 below\n",
    "\n",
    "# MCMC\n",
    "import corner\n",
    "import emcee\n",
    "\n",
    "%matplotlib inline\n",
    "# Resolution of spectrometer: 0.5 nm"
   ]
  },
  {
   "cell_type": "markdown",
   "id": "f35d6fb7",
   "metadata": {},
   "source": [
    "# Importing dataset"
   ]
  },
  {
   "cell_type": "markdown",
   "id": "2371762e",
   "metadata": {},
   "source": [
    "The moon data is from 28/03/2023, while the sky data is from 04/04/2023. The data was collected on top of Rutherford building in Montreal with a celestron telescope and spectromer attached with a 3D custom piece. "
   ]
  },
  {
   "cell_type": "code",
   "execution_count": 26,
   "id": "7c03cb92",
   "metadata": {},
   "outputs": [],
   "source": [
    "os.chdir(\"/Users/antoineparadis/Desktop/School/Semester4/PHYS321/PHYS321_CodingLabs2024/FinalProject\")\n",
    "moon_data = pd.read_csv(\"moon_spectra.csv\")\n",
    "sky_data = pd.read_csv(\"sky_spectra.csv\")"
   ]
  },
  {
   "cell_type": "markdown",
   "id": "0e25848d",
   "metadata": {},
   "source": [
    "# Normalizing dips for MCMC fitting (Moon data)"
   ]
  },
  {
   "cell_type": "markdown",
   "id": "1bcadca0",
   "metadata": {},
   "source": [
    "The general idea is to obtain a smooth, fitted function to the data and then subtract it from the raw spectra in order to isolate the dips. Normal MCMC can not be applied on the absorption lines directly because of the asymmetric profile. Also, because of atmospheric loss in the spectra, it is not wise to try and fit a planck function."
   ]
  },
  {
   "cell_type": "markdown",
   "id": "5665c4b5",
   "metadata": {},
   "source": [
    "## Obtain a smoothed curve and the substracting this from the data (using the Savitzky-Golay filter)"
   ]
  },
  {
   "cell_type": "code",
   "execution_count": 27,
   "id": "1bccc180",
   "metadata": {},
   "outputs": [],
   "source": [
    "# Apply Savitzky-Golay filter, 167 window size (10 windows in 1680 total data points), second order polynomial fit \n",
    "smoothed_y = savgol_filter(moon_data['average'], window_length=167, polyorder=2) \n",
    "delta2 = moon_data['average']-smoothed_y"
   ]
  },
  {
   "cell_type": "markdown",
   "id": "eb86506f",
   "metadata": {},
   "source": [
    "# Balmer $\\alpha$ (H, n=3 -> n=2)"
   ]
  },
  {
   "cell_type": "markdown",
   "id": "0430cf7b",
   "metadata": {},
   "source": [
    "We are now ready to run MCMC with an inverse lorentztian to fit. First, we define the necessary functions"
   ]
  },
  {
   "cell_type": "code",
   "execution_count": 28,
   "id": "92888c2a",
   "metadata": {},
   "outputs": [],
   "source": [
    "def inv_lorentz(x,params):\n",
    "    '''Inverse lorentzian function with offset parameter\n",
    "    Input:\n",
    "        x (float np.array): independant variables\n",
    "        params (float np.array): \n",
    "            a -> midheigth width of distribution\n",
    "            b -> median/mode of distribution\n",
    "            c -> y-axis offset\n",
    "    Output:\n",
    "         (float np.array) : value of distribution at xs'''\n",
    "    a,b,c = params\n",
    "    fst = 2/(np.pi*a)\n",
    "    snd = 1 + ((x-b)/(a/2))**2\n",
    "    return c-(fst/snd)\n",
    "  \n",
    "\n",
    "def log_likelihood(params,x,y,yerr):\n",
    "    '''\n",
    "    Models the absorption dips with a lorentzian distribution,\n",
    "    assuming normally distributed errors\n",
    "    Input:\n",
    "        params (float np.array): model parameters\n",
    "        x (float np.array): wavelength data\n",
    "        y (float np.array): mean-normalized intensity\n",
    "        yerr (float np.array): mean-normalized intensity error\n",
    "    Returns:\n",
    "        like (float np.array): log likelihood of data given params\n",
    "    '''\n",
    "    \n",
    "    model=inv_lorentz(x,params)\n",
    "    sigma2 = yerr**2\n",
    "    like = -0.5 * np.sum((y - model) ** 2 / sigma2 + np.log(sigma2))\n",
    "    return like\n",
    "\n",
    "\n",
    "def log_prior(params):\n",
    "    '''\n",
    "    Prior knowledge of wavelength bounds and midheigth width\n",
    "    Input:\n",
    "        params (float np.array): model parameters\n",
    "    Returns: \n",
    "        (float): 0 if params in bounds\n",
    "        (float): -inf if params out of bounds\n",
    "    '''\n",
    "    a,b,c = params\n",
    "    if 0 < a < 5 and 650. < b < 660. and -1 < c < 1: # from looking at data\n",
    "        return 0.0 \n",
    "    return -np.inf # log(0) = -inf\n",
    "\n",
    "def log_posterior(params, x, y, yerr):\n",
    "    '''\n",
    "    Combines log_likelihood and log_prior to give log_posterior probability of params given data \n",
    "    Input:\n",
    "        params (float np.array): model paramaters\n",
    "        x (float np.array): wavelength data\n",
    "        y (float np.array): mean-normalized intensity \n",
    "        yerr (float np.array): mean-normalized intensity error \n",
    "    Returns:\n",
    "        (float) : -inf if a,b out of bounds\n",
    "        (float np.array) : else log_posterior of params given data\n",
    "    '''\n",
    "    lp = log_prior(params)\n",
    "    if not np.isfinite(lp):\n",
    "        return -np.inf\n",
    "    return lp + log_likelihood(params, x, y, yerr)"
   ]
  },
  {
   "cell_type": "markdown",
   "id": "3f6ff778",
   "metadata": {},
   "source": [
    "Next, we define initial conditions, create walkers, and run the MCMC algorithm"
   ]
  },
  {
   "cell_type": "code",
   "execution_count": 30,
   "id": "e8941b45",
   "metadata": {
    "scrolled": true
   },
   "outputs": [
    {
     "name": "stderr",
     "output_type": "stream",
     "text": [
      "100%|███████████████████████████████████████| 5000/5000 [03:40<00:00, 22.63it/s]\n"
     ]
    }
   ],
   "source": [
    "# Initial conditions (this cell takes long too run)\n",
    "\n",
    "# Data (choose delta2, i.e smoothing out method)\n",
    "y_balmer = delta2[625:642]\n",
    "x_balmer = moon_data['wavelength'][625:642]\n",
    "err_balmer = moon_data['error'][625:642]\n",
    "\n",
    "ndi = 3  # number of parameters in the model\n",
    "nw = 32  # number of MCMC walkers\n",
    "nst = 5000  # number of MCMC steps to take\n",
    "\n",
    "# Set initial params guesses and add some small fluctuation for all walkers \n",
    "para_guesses = np.zeros((nw, ndi))\n",
    "para_guesses[:, 0] =  2.5 # mid-heigth width (a)\n",
    "para_guesses[:, 1] =  656 # initial wavelength value (b)\n",
    "para_guesses[:, 2] =  0.05 # offset (c)\n",
    "para_guesses += 0.01 * np.random.rand(nw, ndi) # random variations for the 32 walkers to start off\n",
    "\n",
    "# Run MCMC and get flattened chain\n",
    "balmer_moon_sample = emcee.EnsembleSampler(nw, ndi, log_posterior, args=[x_balmer,y_balmer,err_balmer])\n",
    "balmer_moon_sample.run_mcmc(para_guesses, nst, progress = True)\n",
    "samples = balmer_moon_sample.get_chain()"
   ]
  },
  {
   "cell_type": "code",
   "execution_count": 32,
   "id": "b24e620b",
   "metadata": {},
   "outputs": [
    {
     "name": "stdout",
     "output_type": "stream",
     "text": [
      "Note that parameter sets are relatively constrained, as seen in corner plot\n",
      "Wavelength α balmer fit:  656.4004 +- 0.096\n"
     ]
    }
   ],
   "source": [
    "# Retrieve fit value of balmer absorption line\n",
    "balmer_w = np.mean(samples[:, :,1])\n",
    "balmer_w_err = np.std(samples[:, :,1])\n",
    "\n",
    "print(\"Note that parameter sets are relatively constrained, as seen in corner plot\")\n",
    "print(\"Wavelength α balmer fit: \", round(balmer_w,4),\"+-\",round(balmer_w_err,3))"
   ]
  }
 ],
 "metadata": {
  "kernelspec": {
   "display_name": "Python 3 (ipykernel)",
   "language": "python",
   "name": "python3"
  },
  "language_info": {
   "codemirror_mode": {
    "name": "ipython",
    "version": 3
   },
   "file_extension": ".py",
   "mimetype": "text/x-python",
   "name": "python",
   "nbconvert_exporter": "python",
   "pygments_lexer": "ipython3",
   "version": "3.9.13"
  }
 },
 "nbformat": 4,
 "nbformat_minor": 5
}
